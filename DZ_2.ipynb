{
 "cells": [
  {
   "cell_type": "markdown",
   "metadata": {},
   "source": [
    "Смоделировать игру против лотерейного автомата типа “777”. Игрок платит 1 руб., после чего выпадает случайное целое число, равномерно распределенное от 0 до 999. При некоторых значениях числа игрок получает выигрыш (см. справа)\n",
    "\n",
    "Выгодна ли игра игроку?\n",
    "\n",
    "Сколько в среднем приобретает\n",
    "или теряет игрок за одну игру?\n",
    "\n",
    "1. 777: 200 руб.\n",
    "2. 999: 100 руб.\n",
    "3. 555: 50 руб.\n",
    "4. 333: 15 руб.\n",
    "5. 111: 10 руб.\n",
    "6. -77: 5 руб.\n",
    "7. --7: 3 руб.\n",
    "8. -00: 2 руб.\n",
    "9. --0: 1 руб.\n",
    "\n",
    "– любая цифра"
   ]
  },
  {
   "cell_type": "code",
   "execution_count": 50,
   "metadata": {},
   "outputs": [],
   "source": [
    "import numpy as np\n",
    "import re"
   ]
  },
  {
   "cell_type": "code",
   "execution_count": 87,
   "metadata": {},
   "outputs": [
    {
     "name": "stdout",
     "output_type": "stream",
     "text": [
      "Количество выигранных игр: 20500 из 100000 попыток\n",
      "Частота выигрышей по методу Монте-Карло: 20%\n",
      "Количество выигранных денег: 76257\n",
      "Количество потраченных денег: 100000\n",
      "Финансовый результат игр: -23743\n",
      "В среднем игрок приобретает/теряет за 1 игру: -0.24 рубля(-ей)\n"
     ]
    }
   ],
   "source": [
    "games = 100000\n",
    "win = 0 # количество выигрышей\n",
    "win_money = 0 # количество выигранных денег\n",
    "\n",
    "win_dict = {'777': 200, '999': 100, '555': 50, '333': 15, '111': 10}\n",
    "\n",
    "for i in range(games): # количество игр\n",
    "    result = np.random.randint(0,1000) # результат игры\n",
    "    result = str(result)\n",
    "    \n",
    "    if result in win_dict:\n",
    "        win += 1\n",
    "        win_money = win_money + win_dict[result]\n",
    "    elif re.search('77$', result) != None:\n",
    "        win += 1\n",
    "        win_money = win_money + 5\n",
    "    elif re.search('7$', result) != None:\n",
    "        win += 1\n",
    "        win_money = win_money + 3\n",
    "    elif re.search('00$', result) != None:\n",
    "        win += 1\n",
    "        win_money = win_money + 2\n",
    "    elif re.search('0$', result) != None:\n",
    "        win += 1\n",
    "        win_money = win_money + 1\n",
    "\n",
    "print(f'Количество выигранных игр: {win} из {games} попыток')\n",
    "print(f'Частота выигрышей по методу Монте-Карло: {round(win/games*100)}%')\n",
    "print(f'Количество выигранных денег: {win_money}') \n",
    "print(f'Количество потраченных денег: {games}') \n",
    "print(f'Финансовый результат игр: {win_money-games}')\n",
    "print(f'В среднем игрок приобретает/теряет за 1 игру: {round((win_money-games)/games,2)} рубля(-ей)')\n",
    "\n",
    "\n",
    "# Игра игроку не выгодна, хотя и частота выигрышей 20%, но финансовые потери занчительно выше\n",
    "    "
   ]
  },
  {
   "cell_type": "code",
   "execution_count": null,
   "metadata": {},
   "outputs": [],
   "source": []
  }
 ],
 "metadata": {
  "kernelspec": {
   "display_name": "Python 3",
   "language": "python",
   "name": "python3"
  },
  "language_info": {
   "codemirror_mode": {
    "name": "ipython",
    "version": 3
   },
   "file_extension": ".py",
   "mimetype": "text/x-python",
   "name": "python",
   "nbconvert_exporter": "python",
   "pygments_lexer": "ipython3",
   "version": "3.7.6"
  }
 },
 "nbformat": 4,
 "nbformat_minor": 4
}
